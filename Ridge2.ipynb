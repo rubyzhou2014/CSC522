{
 "cells": [
  {
   "cell_type": "code",
   "execution_count": 3,
   "metadata": {
    "collapsed": true
   },
   "outputs": [],
   "source": [
    "# Ridge Regression\n",
    "\n",
    "import numpy as np\n",
    "import pandas as pd\n",
    "from sklearn.linear_model import Ridge\n"
   ]
  },
  {
   "cell_type": "code",
   "execution_count": 4,
   "metadata": {
    "collapsed": true
   },
   "outputs": [],
   "source": [
    "#Data used to train the first layer stacking\n",
    "train_layer1_x = pd.read_csv(\"train_layer1_x.csv\")\n",
    "train_layer1_label = pd.read_csv(\"train_layer1_label.csv\",header = None)\n",
    "\n",
    "# Use this dataset to predict the second layer\n",
    "train_layer2_x = pd.read_csv(\"train_layer1_x.csv\")\n",
    "train_layer2_label = pd.read_csv(\"train_layer1_label.csv\",header = None)\n",
    "\n",
    "#test data\n",
    "test_x = pd.read_csv(\"test_x.csv\")\n",
    "test_id = pd.read_csv(\"test_id.csv\", header = None)"
   ]
  },
  {
   "cell_type": "code",
   "execution_count": 5,
   "metadata": {
    "collapsed": false
   },
   "outputs": [],
   "source": [
    "#model = Ridge(alpha=0.1, copy_X = False, normalize = True, random_state = 2017)\n",
    "#model = Ridge(alpha=0.01, copy_X = False, normalize = True, random_state = 2017)\n",
    "model = Ridge(alpha=0.001, copy_X = False, normalize = True, random_state = 2017)\n"
   ]
  },
  {
   "cell_type": "code",
   "execution_count": 6,
   "metadata": {
    "collapsed": false
   },
   "outputs": [
    {
     "data": {
      "text/plain": [
       "Ridge(alpha=0.001, copy_X=False, fit_intercept=True, max_iter=None,\n",
       "   normalize=True, random_state=2017, solver='auto', tol=0.001)"
      ]
     },
     "execution_count": 6,
     "metadata": {},
     "output_type": "execute_result"
    }
   ],
   "source": [
    "model.fit(train_layer1_x, train_layer1_label)"
   ]
  },
  {
   "cell_type": "code",
   "execution_count": 16,
   "metadata": {
    "collapsed": true
   },
   "outputs": [],
   "source": [
    "prediction_input2_log = model.predict(train_layer2_x)\n",
    "prediction_log= model.predict(test_x)"
   ]
  },
  {
   "cell_type": "code",
   "execution_count": 17,
   "metadata": {
    "collapsed": false
   },
   "outputs": [],
   "source": [
    "shift = 200\n",
    "prediction_input2 = np.exp(prediction_input2_log) - shift\n",
    "prediction = np.exp(prediction_log) - shift"
   ]
  },
  {
   "cell_type": "code",
   "execution_count": 41,
   "metadata": {
    "collapsed": false
   },
   "outputs": [
    {
     "data": {
      "text/plain": [
       "(112990, 1)"
      ]
     },
     "execution_count": 41,
     "metadata": {},
     "output_type": "execute_result"
    }
   ],
   "source": [
    "prediction_input2.shape"
   ]
  },
  {
   "cell_type": "code",
   "execution_count": 37,
   "metadata": {
    "collapsed": false
   },
   "outputs": [
    {
     "data": {
      "text/plain": [
       "(3,)"
      ]
     },
     "execution_count": 37,
     "metadata": {},
     "output_type": "execute_result"
    }
   ],
   "source": [
    "tmp = np.array([1, 2, 3])\n",
    "tmp.shape"
   ]
  },
  {
   "cell_type": "code",
   "execution_count": 38,
   "metadata": {
    "collapsed": false
   },
   "outputs": [],
   "source": [
    "stacking_test_ridge = pd.DataFrame()\n",
    "stacking_test_ridge['loss'] = prediction[:,0]\n",
    "stacking_test_ridge.to_csv('stacking_test_ridge.csv', index=False)"
   ]
  },
  {
   "cell_type": "code",
   "execution_count": 43,
   "metadata": {
    "collapsed": false
   },
   "outputs": [],
   "source": [
    "stacking_layer1_ridge = pd.DataFrame()\n",
    "stacking_layer1_ridge['loss'] = prediction_input2[:,0]\n",
    "stacking_layer1_ridge.to_csv('stacking_layer1_ridge.csv', index=False)"
   ]
  },
  {
   "cell_type": "code",
   "execution_count": null,
   "metadata": {
    "collapsed": true
   },
   "outputs": [],
   "source": []
  },
  {
   "cell_type": "code",
   "execution_count": null,
   "metadata": {
    "collapsed": true
   },
   "outputs": [],
   "source": []
  }
 ],
 "metadata": {
  "kernelspec": {
   "display_name": "Python 3",
   "language": "python",
   "name": "python3"
  },
  "language_info": {
   "codemirror_mode": {
    "name": "ipython",
    "version": 3
   },
   "file_extension": ".py",
   "mimetype": "text/x-python",
   "name": "python",
   "nbconvert_exporter": "python",
   "pygments_lexer": "ipython3",
   "version": "3.5.2"
  }
 },
 "nbformat": 4,
 "nbformat_minor": 0
}
